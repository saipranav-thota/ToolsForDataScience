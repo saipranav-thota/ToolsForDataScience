{
 "cells": [
  {
   "cell_type": "markdown",
   "id": "ab0cacb9-31d8-4966-9916-e6772d3cd4cc",
   "metadata": {},
   "source": [
    "# Data Science Tools and Ecosystem"
   ]
  },
  {
   "cell_type": "markdown",
   "id": "415d7496-656a-474e-a138-b0436e415794",
   "metadata": {},
   "source": [
    "In this notebook, Data Science Tools and Ecosystem are summarized."
   ]
  },
  {
   "cell_type": "markdown",
   "id": "7e60c005-68ac-4a76-85a5-d79706fcd616",
   "metadata": {},
   "source": [
    "**Objective:**\n",
    "* Popular languages used for Data Science\n",
    "* Libraries used by Data Scientist\n",
    "* Data Science tools\n",
    "* Solving basic arithmetic expressions in Python\n",
    "* Converting minutes to hours using Python"
   ]
  },
  {
   "cell_type": "markdown",
   "id": "ead6081a-e4aa-41ae-810c-831a8f37c547",
   "metadata": {},
   "source": [
    "Some of the popular languages that Data Scientists use are:\n",
    "1. Python\n",
    "2. R\n",
    "3. SQL\n",
    "4. Julia"
   ]
  },
  {
   "cell_type": "markdown",
   "id": "88fe67a6-ad4f-4781-9d62-8c7aa09b8b82",
   "metadata": {},
   "source": [
    "Some of the commonly used libraries used by Data Scientists include:\n",
    "1. NumPY \n",
    "2. Pandas\n",
    "3. Scikit Learn\n",
    "4. Matplotlib"
   ]
  },
  {
   "cell_type": "markdown",
   "id": "dbbf441b-26ae-412a-a30f-210d0a42a416",
   "metadata": {
    "tags": []
   },
   "source": [
    "| Data Science Tools|\n",
    "| ------|\n",
    "| Pandas|\n",
    "| Tensor flow|\n",
    "| Hadoop|\n",
    "| ggplot|"
   ]
  },
  {
   "cell_type": "markdown",
   "id": "b318839b-8866-4b4a-b3ed-f00ffa11aa5b",
   "metadata": {},
   "source": [
    "### Below are a few examples of evaluating arithmetic expressions in Python:"
   ]
  },
  {
   "cell_type": "code",
   "execution_count": 6,
   "id": "53e9d70e-5aa7-4056-a340-8994ef2ba861",
   "metadata": {
    "tags": []
   },
   "outputs": [
    {
     "data": {
      "text/plain": [
       "17"
      ]
     },
     "execution_count": 6,
     "metadata": {},
     "output_type": "execute_result"
    }
   ],
   "source": [
    "#This a simple arithmetic expression to mutiply then add integers\n",
    "(3*4)+5"
   ]
  },
  {
   "cell_type": "code",
   "execution_count": 8,
   "id": "9580cd0e-0c4a-4128-8686-ded5446ab9c8",
   "metadata": {
    "tags": []
   },
   "outputs": [
    {
     "name": "stdout",
     "output_type": "stream",
     "text": [
      "3.3333333333333335\n"
     ]
    }
   ],
   "source": [
    "# This will convert 200 minutes to hours by diving by 60\n",
    "mins = 200\n",
    "hrs = mins/60\n",
    "print(hrs)"
   ]
  },
  {
   "cell_type": "markdown",
   "id": "91b83631-64e6-4590-8f87-24c8918101d0",
   "metadata": {},
   "source": [
    "## Author\n",
    "SaiPranav Thota"
   ]
  },
  {
   "cell_type": "code",
   "execution_count": null,
   "id": "7f0d092a-f5e9-4188-9afa-3b3cbfbd7668",
   "metadata": {},
   "outputs": [],
   "source": []
  }
 ],
 "metadata": {
  "kernelspec": {
   "display_name": "Python",
   "language": "python",
   "name": "conda-env-python-py"
  },
  "language_info": {
   "codemirror_mode": {
    "name": "ipython",
    "version": 3
   },
   "file_extension": ".py",
   "mimetype": "text/x-python",
   "name": "python",
   "nbconvert_exporter": "python",
   "pygments_lexer": "ipython3",
   "version": "3.7.12"
  }
 },
 "nbformat": 4,
 "nbformat_minor": 5
}
